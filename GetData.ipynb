{
 "cells": [
  {
   "cell_type": "markdown",
   "metadata": {},
   "source": [
    "In this Notebook are the following things:\n",
    "\n",
    "1. The Google Maps Distance Matrix for all the citibike stations (walking and bicycling)\n",
    "https://developers.google.com/maps/documentation/distance-matrix/overview\n",
    "\n",
    "2. Arrays Indicating the Pick-Up and Drop-Off Points for each station\n",
    "https://layer.bicyclesharing.net/map/v1/nyc/stations?fbclid=IwAR1Psv8qmg8zSBl1BPLsYRceAGnyaJF_lFv80LTUO78j9ezSWZckArXyyF0\n",
    "\n",
    "3. Method to restrict the size of the matrix and points to just lower Manhattan"
   ]
  },
  {
   "cell_type": "code",
   "execution_count": 88,
   "metadata": {},
   "outputs": [],
   "source": [
    "import pandas as pd\n",
    "import geopy.distance\n",
    "from itertools import product\n",
    "import numpy as np\n",
    "import json"
   ]
  },
  {
   "cell_type": "code",
   "execution_count": 89,
   "metadata": {},
   "outputs": [],
   "source": [
    "df = pd.read_json('stations.json')"
   ]
  },
  {
   "cell_type": "code",
   "execution_count": 90,
   "metadata": {},
   "outputs": [],
   "source": [
    "data = df['features']"
   ]
  },
  {
   "cell_type": "code",
   "execution_count": 91,
   "metadata": {},
   "outputs": [],
   "source": [
    "new = pd.DataFrame.from_dict(data)"
   ]
  },
  {
   "cell_type": "code",
   "execution_count": 92,
   "metadata": {},
   "outputs": [],
   "source": [
    "clean = pd.DataFrame(columns = ['long','lat','id','action','points'])\n",
    "for i in range(1588):\n",
    "    if 'bike_angels_action' in pd.DataFrame(new['features'].iloc[i])['properties'].index:\n",
    "        long = pd.DataFrame(new['features'].iloc[i])['geometry']['coordinates'][0]\n",
    "        lat = pd.DataFrame(new['features'].iloc[i])['geometry']['coordinates'][1]\n",
    "        station_id = pd.DataFrame(new['features'].iloc[i])['properties']['station_id']\n",
    "        action = pd.DataFrame(new['features'].iloc[i])['properties']['bike_angels_action']\n",
    "        points = pd.DataFrame(new['features'].iloc[i])['properties']['bike_angels_points']\n",
    "        clean = clean.append({'long': long,'lat':lat,'id':station_id,'action':action,'points':points},ignore_index=True)    "
   ]
  },
  {
   "cell_type": "code",
   "execution_count": 93,
   "metadata": {},
   "outputs": [],
   "source": [
    "sort = clean.sort_values(by=['id'])\n",
    "sort.to_json('sort.json')"
   ]
  },
  {
   "cell_type": "code",
   "execution_count": 94,
   "metadata": {},
   "outputs": [],
   "source": [
    "reduce = clean[clean['lat'] < 40.766411]\n",
    "reduce = reduce[reduce['lat'] > 40.701249]\n",
    "reduce = reduce[reduce['long'] < -73.967222]"
   ]
  },
  {
   "cell_type": "code",
   "execution_count": 96,
   "metadata": {},
   "outputs": [],
   "source": [
    "reduce.to_json('reduce.json')"
   ]
  },
  {
   "cell_type": "code",
   "execution_count": 97,
   "metadata": {},
   "outputs": [],
   "source": [
    "long = str(reduce.iloc[0]['long'])\n",
    "lat = str(reduce.iloc[0]['lat'])\n",
    "long2 = str(reduce.iloc[4]['long'])\n",
    "lat2 = str(reduce.iloc[4]['lat'])"
   ]
  },
  {
   "cell_type": "code",
   "execution_count": 98,
   "metadata": {},
   "outputs": [],
   "source": [
    "long_arr = reduce['long'].to_numpy()\n",
    "lat_arr = reduce['lat'].to_numpy()\n",
    "stations = reduce['id'].to_numpy()"
   ]
  },
  {
   "cell_type": "code",
   "execution_count": 99,
   "metadata": {},
   "outputs": [],
   "source": [
    "distances = np.ones([len(lat_arr),len(lat_arr)])*10000"
   ]
  },
  {
   "cell_type": "code",
   "execution_count": 100,
   "metadata": {},
   "outputs": [],
   "source": [
    "num = 0\n",
    "total = 0\n",
    "for i,j in list(product(range(len(lat_arr)), range(len(lat_arr)))):\n",
    "    if geopy.distance.distance((lat_arr[i],long_arr[i]),(lat_arr[j],long_arr[j])).km < 1:\n",
    "        distances[i,j] = 0\n",
    "        num += 1\n",
    "    total += 1"
   ]
  },
  {
   "cell_type": "code",
   "execution_count": 101,
   "metadata": {},
   "outputs": [],
   "source": [
    "np.savetxt('distancematrix.txt',distances)"
   ]
  },
  {
   "cell_type": "code",
   "execution_count": 102,
   "metadata": {},
   "outputs": [],
   "source": [
    "distances2 = np.insert(distances,0, values=stations , axis=1)\n",
    "distances2 = np.insert(distances2,0, values=np.append(0,stations), axis=0)\n",
    "np.savetxt('distance2matrix.txt',distances2)"
   ]
  },
  {
   "cell_type": "code",
   "execution_count": 151,
   "metadata": {},
   "outputs": [],
   "source": [
    "for i in np.arange(10):\n",
    "    lat = lat_arr[i]\n",
    "    long = long_arr[i]\n",
    "    long_ind = np.where(distances[i,:] == 0)[0]\n",
    "    \n",
    "    if len(long_ind) < 25:\n",
    "        deststr = \"\"\n",
    "        for j in list(long_ind):\n",
    "            long2 = str(long_arr[j])\n",
    "            lat2 = str(lat_arr[j])\n",
    "            deststr += str(lat2 + \"%2C\" + long2 + \"%7C\")\n",
    "\n",
    "        url = \"https://maps.googleapis.com/maps/api/distancematrix/json?origins=\" + str(lat) +\"%2C\" + str(long) + \"&destinations=\" + deststr +\"&mode=bicycling&key=\"\n",
    "\n",
    "        payload={}\n",
    "        headers = {}\n",
    "\n",
    "        #response = requests.request(\"GET\", url, headers=headers, data=payload)\n",
    "\n",
    "        with open((str(lat) + '.txt'), 'w') as outfile:\n",
    "            json.dump(response.text, outfile)\n",
    "\n",
    "        for j in range(len(list(long_ind))):\n",
    "            start = i\n",
    "            end = list(long_ind)[j]\n",
    "            time = dict(response.json()['rows'][0])['elements'][j]['duration']['value']\n",
    "            distances[i,end] = time\n",
    "            \n",
    "    elif len(long_ind) < 50:\n",
    "        \n",
    "        first = long_ind[:25]\n",
    "        second = long_ind[25:]\n",
    "        index = [first,second]\n",
    "        \n",
    "        for k in range(2):\n",
    "            ind = index[k]\n",
    "        \n",
    "            deststr = \"\"\n",
    "            for j in list(ind):\n",
    "                long2 = str(long_arr[j])\n",
    "                lat2 = str(lat_arr[j])\n",
    "                deststr += str(lat2 + \"%2C\" + long2 + \"%7C\")\n",
    "\n",
    "            url = \"https://maps.googleapis.com/maps/api/distancematrix/json?origins=\" + str(lat) +\"%2C\" + str(long) + \"&destinations=\" + deststr +\"&mode=bicycling&key=\"\n",
    "\n",
    "            payload={}\n",
    "            headers = {}\n",
    "\n",
    "            #response = requests.request(\"GET\", url, headers=headers, data=payload)\n",
    "\n",
    "            with open((str(lat) + \"-\" + str(k) + '.txt'), 'w') as outfile:\n",
    "                json.dump(response.text, outfile)\n",
    "\n",
    "            for j in range(len(list(ind))):\n",
    "                start = i\n",
    "                end = list(ind)[j]\n",
    "                time = dict(response.json()['rows'][0])['elements'][j]['duration']['value']\n",
    "                distances[i,end] = time\n",
    "                \n",
    "    else:\n",
    "        first = long_ind[:25]\n",
    "        second = long_ind[25:50]\n",
    "        third = long_ind[50:]\n",
    "        index = [first,second,third]\n",
    "        \n",
    "        for k in range(3):\n",
    "            ind = index[k]\n",
    "            \n",
    "            deststr = \"\"\n",
    "            for j in list(ind):\n",
    "                long2 = str(long_arr[j])\n",
    "                lat2 = str(lat_arr[j])\n",
    "                deststr += str(lat2 + \"%2C\" + long2 + \"%7C\")\n",
    "\n",
    "            url = \"https://maps.googleapis.com/maps/api/distancematrix/json?origins=\" + str(lat) +\"%2C\" + str(long) + \"&destinations=\" + deststr +\"&mode=bicycling&key=\"\n",
    "\n",
    "            payload={}\n",
    "            headers = {}\n",
    "\n",
    "            #response = requests.request(\"GET\", url, headers=headers, data=payload)\n",
    "\n",
    "            with open((str(lat) + \"-\" +  str(k) + '.txt'), 'w') as outfile:\n",
    "                json.dump(response.text, outfile)\n",
    "\n",
    "            for j in range(len(list(ind))):\n",
    "                start = i\n",
    "                end = list(ind)[j]\n",
    "                time = dict(response.json()['rows'][0])['elements'][j]['duration']['value']\n",
    "                distances[i,end] = time\n",
    "        \n",
    "    "
   ]
  },
  {
   "cell_type": "code",
   "execution_count": null,
   "metadata": {},
   "outputs": [],
   "source": [
    "#np.savetxt('bicyclingmatrix.csv',distances)\n",
    "#np.savetxt('bicyclingmatrix.txt',distances)\n",
    "#distances2 = np.insert(distances,0, values=stations , axis=1)\n",
    "#distances2 = np.insert(distances2,0, values=np.append(0,stations), axis=0)\n",
    "#np.savetxt('bicycling2matrix.csv',distances2)\n",
    "#np.savetxt('bicycling2matrix.txt',distances2)"
   ]
  },
  {
   "cell_type": "code",
   "execution_count": 156,
   "metadata": {},
   "outputs": [],
   "source": [
    "for i in np.arange(200,373):\n",
    "    lat = lat_arr[i]\n",
    "    long = long_arr[i]\n",
    "    long_ind = np.where(distances[i,:] == 0)[0]\n",
    "    \n",
    "    if len(long_ind) < 25:\n",
    "        deststr = \"\"\n",
    "        for j in list(long_ind):\n",
    "            long2 = str(long_arr[j])\n",
    "            lat2 = str(lat_arr[j])\n",
    "            deststr += str(lat2 + \"%2C\" + long2 + \"%7C\")\n",
    "\n",
    "        url = \"https://maps.googleapis.com/maps/api/distancematrix/json?origins=\" + str(lat) +\"%2C\" + str(long) + \"&destinations=\" + deststr +\"&mode=walking&key=\"\n",
    "\n",
    "        payload={}\n",
    "        headers = {}\n",
    "\n",
    "        response = requests.request(\"GET\", url, headers=headers, data=payload)\n",
    "\n",
    "        with open((str(lat)+ 'walk' + '.txt'), 'w') as outfile:\n",
    "            json.dump(response.text, outfile)\n",
    "\n",
    "        for j in range(len(list(long_ind))):\n",
    "            start = i\n",
    "            end = list(long_ind)[j]\n",
    "            time = dict(response.json()['rows'][0])['elements'][j]['duration']['value']\n",
    "            distances[i,end] = time\n",
    "            \n",
    "    elif len(long_ind) < 50:\n",
    "        \n",
    "        first = long_ind[:25]\n",
    "        second = long_ind[25:]\n",
    "        index = [first,second]\n",
    "        \n",
    "        for k in range(2):\n",
    "            ind = index[k]\n",
    "        \n",
    "            deststr = \"\"\n",
    "            for j in list(ind):\n",
    "                long2 = str(long_arr[j])\n",
    "                lat2 = str(lat_arr[j])\n",
    "                deststr += str(lat2 + \"%2C\" + long2 + \"%7C\")\n",
    "\n",
    "            url = \"https://maps.googleapis.com/maps/api/distancematrix/json?origins=\" + str(lat) +\"%2C\" + str(long) + \"&destinations=\" + deststr +\"&mode=walking&key=\"\n",
    "\n",
    "            payload={}\n",
    "            headers = {}\n",
    "\n",
    "            response = requests.request(\"GET\", url, headers=headers, data=payload)\n",
    "\n",
    "            with open((str(lat) + \"-\" + 'walk' + str(k) + '.txt'), 'w') as outfile:\n",
    "                json.dump(response.text, outfile)\n",
    "\n",
    "            for j in range(len(list(ind))):\n",
    "                start = i\n",
    "                end = list(ind)[j]\n",
    "                time = dict(response.json()['rows'][0])['elements'][j]['duration']['value']\n",
    "                distances[i,end] = time\n",
    "                \n",
    "    else:\n",
    "        first = long_ind[:25]\n",
    "        second = long_ind[25:50]\n",
    "        third = long_ind[50:]\n",
    "        index = [first,second,third]\n",
    "        \n",
    "        for k in range(3):\n",
    "            ind = index[k]\n",
    "            \n",
    "            deststr = \"\"\n",
    "            for j in list(ind):\n",
    "                long2 = str(long_arr[j])\n",
    "                lat2 = str(lat_arr[j])\n",
    "                deststr += str(lat2 + \"%2C\" + long2 + \"%7C\")\n",
    "\n",
    "            url = \"https://maps.googleapis.com/maps/api/distancematrix/json?origins=\" + str(lat) +\"%2C\" + str(long) + \"&destinations=\" + deststr +\"&mode=walking&key=\"\n",
    "\n",
    "            payload={}\n",
    "            headers = {}\n",
    "\n",
    "            response = requests.request(\"GET\", url, headers=headers, data=payload)\n",
    "\n",
    "            with open((str(lat) + \"-\" + 'walk' + str(k) + '.txt'), 'w') as outfile:\n",
    "                json.dump(response.text, outfile)\n",
    "\n",
    "            for j in range(len(list(ind))):\n",
    "                start = i\n",
    "                end = list(ind)[j]\n",
    "                time = dict(response.json()['rows'][0])['elements'][j]['duration']['value']\n",
    "                distances[i,end] = time\n",
    "        \n",
    "    "
   ]
  },
  {
   "cell_type": "code",
   "execution_count": 157,
   "metadata": {},
   "outputs": [],
   "source": [
    "#np.savetxt('walkingmatrix.csv',distances)\n",
    "#np.savetxt('walkingmatrix.txt',distances)\n",
    "#distances2 = np.insert(distances,0, values=stations , axis=1)\n",
    "#distances2 = np.insert(distances2,0, values=np.append(0,stations), axis=0)\n",
    "#np.savetxt('walking2matrix.csv',distances2)\n",
    "#np.savetxt('walking2matrix.txt',distances2)"
   ]
  },
  {
   "cell_type": "code",
   "execution_count": 158,
   "metadata": {},
   "outputs": [
    {
     "data": {
      "text/plain": [
       "10831"
      ]
     },
     "execution_count": 158,
     "metadata": {},
     "output_type": "execute_result"
    }
   ],
   "source": [
    "found = distances[(distances[:,:] < 10000) & (distances[:,:] > 0)]\n",
    "np.size(found)"
   ]
  }
 ],
 "metadata": {
  "kernelspec": {
   "display_name": "Python 3",
   "language": "python",
   "name": "python3"
  },
  "language_info": {
   "codemirror_mode": {
    "name": "ipython",
    "version": 3
   },
   "file_extension": ".py",
   "mimetype": "text/x-python",
   "name": "python",
   "nbconvert_exporter": "python",
   "pygments_lexer": "ipython3",
   "version": "3.7.4"
  }
 },
 "nbformat": 4,
 "nbformat_minor": 2
}
